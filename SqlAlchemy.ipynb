{
  "nbformat": 4,
  "nbformat_minor": 0,
  "metadata": {
    "colab": {
      "provenance": [],
      "authorship_tag": "ABX9TyN7JNoPKg1UuCE9+0fH47sk",
      "include_colab_link": true
    },
    "kernelspec": {
      "name": "python3",
      "display_name": "Python 3"
    },
    "language_info": {
      "name": "python"
    }
  },
  "cells": [
    {
      "cell_type": "markdown",
      "metadata": {
        "id": "view-in-github",
        "colab_type": "text"
      },
      "source": [
        "<a href=\"https://colab.research.google.com/github/Murillocarlosp/Marcotti-SqlAlchemy/blob/main/SqlAlchemy.ipynb\" target=\"_parent\"><img src=\"https://colab.research.google.com/assets/colab-badge.svg\" alt=\"Open In Colab\"/></a>"
      ]
    },
    {
      "cell_type": "code",
      "execution_count": 1,
      "metadata": {
        "colab": {
          "base_uri": "https://localhost:8080/"
        },
        "id": "L6C-RXK4PZca",
        "outputId": "5d248b64-cb96-431a-849c-1517aecf703c"
      },
      "outputs": [
        {
          "output_type": "stream",
          "name": "stdout",
          "text": [
            "Requirement already satisfied: sqlalchemy in /usr/local/lib/python3.12/dist-packages (2.0.44)\n",
            "Requirement already satisfied: greenlet>=1 in /usr/local/lib/python3.12/dist-packages (from sqlalchemy) (3.2.4)\n",
            "Requirement already satisfied: typing-extensions>=4.6.0 in /usr/local/lib/python3.12/dist-packages (from sqlalchemy) (4.15.0)\n"
          ]
        }
      ],
      "source": [
        "# No Colab, SQLAlchemy geralmente já vem instalado\n",
        "# Mas se precisar:\n",
        "!pip install sqlalchemy"
      ]
    },
    {
      "cell_type": "code",
      "source": [
        "from sqlalchemy import create_engine, Column, Integer, String, Date, Float, Time, ForeignKey\n",
        "from sqlalchemy.ext.declarative import declarative_base\n",
        "from sqlalchemy.orm import sessionmaker\n",
        "\n",
        "Base = declarative_base()\n",
        "\n",
        "# Suas classes (exatamente como você tinha)\n",
        "class Funcionario(Base):\n",
        "    __tablename__ = 'Funcionarios'\n",
        "\n",
        "    id_funcionario = Column(Integer, primary_key=True, autoincrement=True)\n",
        "    nome = Column(String(100), nullable=False)\n",
        "    cargo = Column(String(50), nullable=False)\n",
        "    data_admissao = Column(Date, nullable=False)\n",
        "    salario = Column(Float, nullable=False)\n",
        "\n",
        "class EscalaTrabalho(Base):\n",
        "    __tablename__ = 'EscalaTrabalho'\n",
        "\n",
        "    id_escala = Column(Integer, primary_key=True, autoincrement=True)\n",
        "    id_funcionario = Column(Integer, ForeignKey('Funcionarios.id_funcionario'), nullable=False)\n",
        "    dia_semana = Column(String(20), nullable=False)\n",
        "    hora_inicio = Column(Time, nullable=False)\n",
        "    hora_fim = Column(Time, nullable=False)\n",
        "    tipo_turno = Column(String(20), nullable=False)\n",
        "\n",
        "# Criar banco de dados SQLite na memória (ou arquivo)\n",
        "engine = create_engine('sqlite:///empresa.db')  # Arquivo\n",
        "# engine = create_engine('sqlite:///:memory:')  # Memória RAM (dados temporários)\n",
        "\n",
        "# Criar todas as tabelas\n",
        "Base.metadata.create_all(engine)\n",
        "\n",
        "# Criar sessão\n",
        "Session = sessionmaker(bind=engine)\n",
        "session = Session()\n",
        "\n",
        "print(\"✅ Banco de dados criado com sucesso no Colab!\")"
      ],
      "metadata": {
        "colab": {
          "base_uri": "https://localhost:8080/"
        },
        "id": "K92DnNQePuu-",
        "outputId": "5b662d7a-895e-4191-c1a8-ceeb822541e5"
      },
      "execution_count": 2,
      "outputs": [
        {
          "output_type": "stream",
          "name": "stdout",
          "text": [
            "✅ Banco de dados criado com sucesso no Colab!\n"
          ]
        },
        {
          "output_type": "stream",
          "name": "stderr",
          "text": [
            "/tmp/ipython-input-2799620144.py:5: MovedIn20Warning: The ``declarative_base()`` function is now available as sqlalchemy.orm.declarative_base(). (deprecated since: 2.0) (Background on SQLAlchemy 2.0 at: https://sqlalche.me/e/b8d9)\n",
            "  Base = declarative_base()\n"
          ]
        }
      ]
    }
  ]
}